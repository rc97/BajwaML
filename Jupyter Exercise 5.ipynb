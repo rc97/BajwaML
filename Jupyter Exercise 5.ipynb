{
 "cells": [
  {
   "cell_type": "code",
   "execution_count": 1,
   "metadata": {},
   "outputs": [],
   "source": [
    "import numpy as np\n",
    "from matplotlib import pyplot as plt\n",
    "from sklearn.datasets import load_wine\n"
   ]
  },
  {
   "cell_type": "markdown",
   "metadata": {},
   "source": [
    "# Wine Dataset"
   ]
  },
  {
   "cell_type": "code",
   "execution_count": 11,
   "metadata": {},
   "outputs": [],
   "source": [
    "samples, labels = load_wine(return_X_y=True)\n",
    "samples = samples.T # use the same features, samples structure as usual\n"
   ]
  },
  {
   "cell_type": "markdown",
   "metadata": {},
   "source": [
    "# Standardization of Data"
   ]
  },
  {
   "cell_type": "code",
   "execution_count": 14,
   "metadata": {},
   "outputs": [],
   "source": [
    "sample_mean = np.mean(samples, axis=1)\n",
    "sample_mean = np.reshape(sample_mean, (len(sample_mean), 1))\n",
    "samples_centered = samples - sample_mean\n"
   ]
  },
  {
   "cell_type": "code",
   "execution_count": 18,
   "metadata": {},
   "outputs": [
    {
     "data": {
      "image/png": "[encoded data removed]",
      "text/plain": [
       "<Figure size 432x288 with 1 Axes>"
      ]
     },
     "metadata": {
      "needs_background": "light"
     },
     "output_type": "display_data"
    }
   ],
   "source": [
    "U, Sigma, V = np.linalg.svd(samples_centered)\n",
    "U2 = U[:, :2]\n",
    "samples_pca = U2.T @ samples_centered\n",
    "\n",
    "plt.figure()\n",
    "for sample, label in zip(samples_pca.T, labels):\n",
    "#     print(sample)\n",
    "    color = 'r'\n",
    "    marker = 's'\n",
    "    if label == 1:\n",
    "        color = 'g'\n",
    "        marker = '^'\n",
    "    elif label == 2:\n",
    "        color = 'b'\n",
    "        marker = 'o'\n",
    "    plt.scatter(*sample, c=color, marker=marker)\n",
    "plt.show()\n",
    "    "
   ]
  },
  {
   "cell_type": "code",
   "execution_count": 36,
   "metadata": {},
   "outputs": [
    {
     "name": "stdout",
     "output_type": "stream",
     "text": [
      "(13, 178)\n",
      "[1. 1. 1. 1. 1. 1. 1. 1. 1. 1. 1. 1. 1.]\n"
     ]
    }
   ],
   "source": [
    "sample_variance = np.var(samples_centered, axis=1)\n",
    "sample_variance = np.reshape(sample_variance, (len(sample_variance), 1))\n",
    "# print(sample_variance)\n",
    "samples_norm = samples_centered / np.sqrt(sample_variance)\n",
    "# print(np.sqrt(sample_variance))\n",
    "print(samples_norm.shape)\n",
    "print(np.var(samples_norm, axis=1))\n"
   ]
  },
  {
   "cell_type": "code",
   "execution_count": 29,
   "metadata": {},
   "outputs": [
    {
     "data": {
      "image/png": "[encoded data removed]",
      "text/plain": [
       "<Figure size 432x288 with 1 Axes>"
      ]
     },
     "metadata": {
      "needs_background": "light"
     },
     "output_type": "display_data"
    }
   ],
   "source": [
    "Un, Sigman, Vn = np.linalg.svd(samples_norm)\n",
    "U2n = U2[:, :2]\n",
    "samples_norm_pca = U2n.T @ samples_norm\n",
    "\n",
    "plt.figure()\n",
    "for sample, label in zip(samples_norm_pca.T, labels):\n",
    "#     print(sample)\n",
    "    color = 'r'\n",
    "    marker = 's'\n",
    "    if label == 1:\n",
    "        color = 'g'\n",
    "        marker = '^'\n",
    "    elif label == 2:\n",
    "        color = 'b'\n",
    "        marker = 'o'\n",
    "    plt.scatter(*sample, c=color, marker=marker)\n",
    "plt.show()\n"
   ]
  },
  {
   "cell_type": "code",
   "execution_count": null,
   "metadata": {},
   "outputs": [],
   "source": []
  }
 ],
 "metadata": {
  "kernelspec": {
   "display_name": "Python 3",
   "language": "python",
   "name": "python3"
  },
  "language_info": {
   "codemirror_mode": {
    "name": "ipython",
    "version": 3
   },
   "file_extension": ".py",
   "mimetype": "text/x-python",
   "name": "python",
   "nbconvert_exporter": "python",
   "pygments_lexer": "ipython3",
   "version": "3.7.0"
  }
 },
 "nbformat": 4,
 "nbformat_minor": 2
}
