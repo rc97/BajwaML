{
 "cells": [
  {
   "cell_type": "code",
   "execution_count": 193,
   "metadata": {},
   "outputs": [],
   "source": [
    "import numpy as np\n",
    "import math\n",
    "from matplotlib import pyplot as plt\n",
    "from sklearn.datasets import load_wine\n"
   ]
  },
  {
   "cell_type": "markdown",
   "metadata": {},
   "source": [
    "# Wine Dataset"
   ]
  },
  {
   "cell_type": "code",
   "execution_count": 2,
   "metadata": {},
   "outputs": [],
   "source": [
    "samples, labels = load_wine(return_X_y=True)\n",
    "samples = samples.T # use the same features, samples structure as usual\n"
   ]
  },
  {
   "cell_type": "markdown",
   "metadata": {},
   "source": [
    "# Standardization of Data"
   ]
  },
  {
   "cell_type": "code",
   "execution_count": 3,
   "metadata": {},
   "outputs": [],
   "source": [
    "sample_mean = np.mean(samples, axis=1)\n",
    "sample_mean = np.reshape(sample_mean, (len(sample_mean), 1))\n",
    "samples_centered = samples - sample_mean\n"
   ]
  },
  {
   "cell_type": "code",
   "execution_count": 4,
   "metadata": {},
   "outputs": [
    {
     "data": {
      "image/png": "[encoded data removed]",
      "text/plain": [
       "<Figure size 432x288 with 1 Axes>"
      ]
     },
     "metadata": {
      "needs_background": "light"
     },
     "output_type": "display_data"
    }
   ],
   "source": [
    "U, Sigma, V = np.linalg.svd(samples_centered)\n",
    "U2 = U[:, :2]\n",
    "samples_pca = U2.T @ samples_centered\n",
    "\n",
    "plt.figure()\n",
    "for sample, label in zip(samples_pca.T, labels):\n",
    "#     print(sample)\n",
    "    color = 'r'\n",
    "    marker = 's'\n",
    "    if label == 1:\n",
    "        color = 'g'\n",
    "        marker = '^'\n",
    "    elif label == 2:\n",
    "        color = 'b'\n",
    "        marker = 'o'\n",
    "    plt.scatter(*sample, c=color, marker=marker)\n",
    "plt.title('Centered')\n",
    "plt.show()\n",
    "    "
   ]
  },
  {
   "cell_type": "code",
   "execution_count": 8,
   "metadata": {},
   "outputs": [
    {
     "name": "stdout",
     "output_type": "stream",
     "text": [
      "(13, 178) (13, 1)\n"
     ]
    }
   ],
   "source": [
    "sample_variance = np.var(samples_centered, axis=1)\n",
    "sample_variance = np.reshape(sample_variance, (len(sample_variance), 1))\n",
    "print(samples_centered.shape, np.sqrt(sample_variance).shape)\n",
    "samples_norm = samples_centered / np.sqrt(sample_variance)\n"
   ]
  },
  {
   "cell_type": "code",
   "execution_count": 9,
   "metadata": {},
   "outputs": [
    {
     "data": {
      "image/png": "[encoded data removed]",
      "text/plain": [
       "<Figure size 432x288 with 1 Axes>"
      ]
     },
     "metadata": {
      "needs_background": "light"
     },
     "output_type": "display_data"
    }
   ],
   "source": [
    "Un, Sigman, Vn = np.linalg.svd(samples_norm)\n",
    "U2n = Un[:, :2]\n",
    "samples_norm_pca = U2n.T @ samples_norm\n",
    "\n",
    "plt.figure()\n",
    "for sample, label in zip(samples_norm_pca.T, labels):\n",
    "    color = 'r'\n",
    "    marker = 's'\n",
    "    if label == 1:\n",
    "        color = 'g'\n",
    "        marker = '^'\n",
    "    elif label == 2:\n",
    "        color = 'b'\n",
    "        marker = 'o'\n",
    "    plt.scatter(*sample, c=color, marker=marker)\n",
    "plt.title('Normalized')\n",
    "plt.show()\n"
   ]
  },
  {
   "cell_type": "markdown",
   "metadata": {},
   "source": [
    "# Naive Bayes"
   ]
  },
  {
   "cell_type": "code",
   "execution_count": 202,
   "metadata": {},
   "outputs": [],
   "source": [
    "def train_nb(train_data, labels):\n",
    "    n_labels = len(set(labels))\n",
    "    n_features = len(train_data)\n",
    "    means = np.zeros((n_labels, n_features))\n",
    "    variances = np.zeros((n_labels, n_features))\n",
    "    for label in range(n_labels):\n",
    "        train_data_part = np.array([n for l, n in zip(labels, train_data.T) if l == label])\n",
    "        means[label] = np.mean(train_data_part, axis=0)\n",
    "#         print(np.mean(train_data_part - means[label], axis=0))\n",
    "        variances[label] = np.var(train_data_part, axis=0)\n",
    "#         print(np.var((train_data_part - means[label])/np.sqrt(variances[label]), axis=0))\n",
    "    print(means)\n",
    "    print(variances)\n",
    "    return means, variances\n",
    "\n",
    "def test_nb(test_data, means, variances, labels):\n",
    "    probs = np.zeros((len(means), len(test_data)))\n",
    "    for i, (m, v) in enumerate(zip(means, variances)):\n",
    "        m = np.reshape(m, (len(m), 1))\n",
    "        v = np.reshape(v, (len(v), 1))\n",
    "        probs[i] = np.multiply.reduce(np.exp(-(test_data-m)**2/v/2)/np.sqrt(2*math.pi*v))\n",
    "    return np.argmax(np.array(probs), axis=0)\n"
   ]
  },
  {
   "cell_type": "code",
   "execution_count": 203,
   "metadata": {},
   "outputs": [
    {
     "name": "stdout",
     "output_type": "stream",
     "text": [
      "[[-3.68887863e+02  1.94496661e-02]\n",
      " [ 2.27447528e+02  1.16028790e+00]\n",
      " [ 1.16991863e+02 -1.74016607e+00]]\n",
      "[[48212.29594953   135.86100816]\n",
      " [24405.24113376   238.04672039]\n",
      " [12975.47164561   112.097201  ]]\n",
      "(178,)\n",
      "[1.10325211e-05 5.35219936e-05 5.06107260e-05 1.56930304e-05\n",
      " 3.92796483e-06 1.95010491e-05 2.32236202e-05 2.74358504e-05\n",
      " 4.61999931e-05 4.90826396e-05 9.62345064e-06 2.22376260e-05\n",
      " 7.98860305e-06 2.37161482e-05 5.27737716e-06 4.12645928e-05\n",
      " 3.05184675e-05 4.75733306e-05 1.77331417e-06 1.35578781e-05\n",
      " 1.74145316e-06 1.77790174e-05 5.48827675e-05 3.99968895e-05\n",
      " 2.60198370e-05 3.87151472e-06 2.60921975e-05 1.93857996e-05\n",
      " 3.82917655e-05 4.32992796e-05 3.61035912e-05 9.75726947e-06\n",
      " 5.27790928e-05 6.91994327e-06 5.82717651e-05 4.06175281e-05\n",
      " 2.79666695e-05 4.86739760e-05 4.79128507e-05 9.64196681e-07\n",
      " 8.02326408e-06 2.57593073e-05 5.64163343e-05 8.08480758e-06\n",
      " 3.29608391e-05 5.52610635e-05 5.79247782e-05 5.03466659e-05\n",
      " 5.90655647e-05 4.99770369e-05 2.67440999e-05 2.16309879e-05\n",
      " 5.64393935e-05 2.91258763e-05 3.34915170e-05 4.40277951e-05\n",
      " 2.36836102e-05 4.04173000e-05 4.58932499e-05 1.23756495e-06\n",
      " 8.50721319e-06 5.61713947e-07 5.11127037e-06 3.43160063e-07\n",
      " 9.71930413e-08 8.51101980e-06 4.04685809e-07 4.45487767e-07\n",
      " 1.06700838e-05 6.61585125e-10 3.30983039e-05 2.86005005e-07\n",
      " 6.76440469e-07 5.35777844e-07 3.57770385e-05 4.47115956e-07\n",
      " 2.20282046e-07 4.44661599e-07 1.30630979e-07 6.45146657e-07\n",
      " 3.83626449e-08 6.14663714e-06 1.31111998e-06 9.77614966e-07\n",
      " 1.54784927e-06 5.82797796e-07 1.03285025e-06 2.00116236e-06\n",
      " 3.98978219e-06 3.15568874e-07 4.53546161e-07 4.82297272e-07\n",
      " 4.84585558e-07 5.00939178e-08 1.18138800e-07 1.32720537e-10\n",
      " 3.88649463e-08 3.36824378e-07 4.90642318e-06 2.95934372e-07\n",
      " 1.10800301e-05 1.97713044e-06 5.03453194e-07 3.03198721e-07\n",
      " 4.15797946e-06 7.91032608e-08 5.66306589e-07 6.63289383e-07\n",
      " 7.64476231e-08 8.03274376e-06 1.72109116e-06 8.86329436e-08\n",
      " 3.76016868e-06 4.35204401e-07 1.77980425e-07 2.56719813e-07\n",
      " 8.31465709e-07 5.46944848e-08 1.05473747e-07 1.88842340e-06\n",
      " 5.06606607e-06 8.44761637e-08 1.31777741e-07 1.87032752e-07\n",
      " 1.42542020e-07 1.71536124e-07 1.24184013e-07 7.60536052e-07\n",
      " 1.15993095e-07 1.12910505e-06 6.16614093e-07 1.38871448e-06\n",
      " 2.49779656e-06 2.93993591e-06 3.49792356e-06 9.10294388e-06\n",
      " 8.33329275e-06 1.46970348e-06 2.38713534e-06 3.31700143e-06\n",
      " 3.92100068e-06 1.20693280e-05 1.55467120e-06 2.10402732e-06\n",
      " 2.07001530e-05 2.65942793e-05 1.88709990e-07 3.14955238e-06\n",
      " 5.76268361e-06 7.89241943e-07 7.08675643e-08 3.18744660e-07\n",
      " 7.24334065e-08 8.28659168e-06 5.38049681e-06 1.10613307e-05\n",
      " 8.25290201e-07 3.20264667e-05 7.21027997e-06 3.77142115e-06\n",
      " 1.26398576e-06 6.66356501e-06 2.03548512e-06 6.73740647e-06\n",
      " 3.80015646e-06 1.26562832e-06 5.65119320e-06 6.02226771e-06\n",
      " 1.39488084e-05 2.47337002e-06 1.38146547e-06 6.20468538e-07\n",
      " 5.98781524e-06 1.33262341e-05 1.52159964e-05 7.49632686e-06\n",
      " 7.82853925e-06 2.52427833e-06]\n",
      "-----\n",
      "(178,)\n",
      "[5.00100579e-08 1.99137800e-07 7.12239001e-09 4.03951267e-13\n",
      " 1.12944743e-05 1.29533054e-12 2.50789341e-10 2.08392154e-10\n",
      " 2.07910428e-07 2.14047558e-07 1.10408894e-13 3.29632289e-10\n",
      " 5.78166385e-11 1.20351268e-08 2.07267492e-14 1.76456333e-10\n",
      " 3.45721248e-10 2.60568638e-08 6.14165981e-17 4.51189264e-06\n",
      " 3.64558732e-06 1.79025740e-05 2.80393711e-07 3.72662469e-07\n",
      " 7.24586313e-06 2.70245394e-06 3.90543349e-09 2.64857277e-10\n",
      " 2.51259234e-06 2.51316602e-07 3.63784926e-10 9.24858582e-14\n",
      " 7.05221977e-07 5.01249015e-10 7.02089101e-08 2.45441682e-06\n",
      " 3.88260727e-06 5.31196774e-08 3.65366328e-07 3.42798621e-06\n",
      " 7.30758518e-06 1.92760323e-07 7.22233130e-08 3.64850999e-05\n",
      " 3.96576675e-06 9.64202293e-08 1.46751347e-07 7.72645165e-07\n",
      " 1.65411442e-07 8.68942487e-10 1.28203186e-08 5.03180392e-10\n",
      " 6.29920799e-09 1.90352417e-11 1.10699077e-07 3.17248033e-08\n",
      " 6.24255248e-07 5.96723199e-10 4.01845837e-10 5.98596652e-05\n",
      " 3.79505025e-05 5.45556069e-05 5.07159264e-05 5.02231096e-05\n",
      " 2.75944715e-05 3.94250780e-05 3.74613201e-05 3.75337808e-05\n",
      " 1.69997069e-05 8.38555716e-08 5.26864102e-06 4.72768234e-05\n",
      " 5.75303327e-05 4.75101271e-08 4.21049496e-06 5.38252289e-05\n",
      " 4.34341492e-05 3.38908749e-05 1.20865694e-06 5.49332098e-05\n",
      " 1.92081168e-05 2.24823165e-05 2.52538613e-05 5.48866334e-05\n",
      " 6.59780418e-05 5.59947433e-05 6.30062853e-05 5.71551819e-05\n",
      " 2.68091650e-05 1.22619053e-05 4.50866545e-05 5.35260576e-05\n",
      " 4.29693522e-05 2.21275777e-05 3.24094049e-05 9.58352013e-10\n",
      " 2.69985788e-06 4.85472741e-05 3.71071976e-05 4.84972830e-05\n",
      " 3.13233256e-05 5.68008320e-05 5.47940151e-05 4.79826404e-05\n",
      " 2.99512034e-05 2.79722846e-05 4.26286167e-05 5.26096993e-05\n",
      " 2.72589112e-05 3.80235579e-05 4.77683600e-05 2.97948125e-05\n",
      " 5.10560246e-05 5.39093544e-05 3.96750128e-05 4.51946395e-05\n",
      " 5.67878808e-05 1.98905301e-05 3.11661001e-05 5.46997249e-05\n",
      " 5.25464618e-05 1.55844112e-05 3.23583210e-05 4.10299066e-05\n",
      " 3.58260402e-05 3.94737680e-05 3.48283553e-05 6.20119546e-05\n",
      " 3.38205445e-05 3.68404743e-05 1.31957298e-05 5.49536270e-05\n",
      " 6.27500869e-05 4.66806106e-05 3.46350892e-05 3.41697515e-05\n",
      " 2.44096730e-05 6.56063071e-05 5.42849060e-05 5.61789359e-05\n",
      " 5.78207679e-05 1.32665104e-05 6.51358553e-05 6.35205580e-05\n",
      " 4.96361672e-06 9.07898723e-06 3.76772171e-05 4.20817069e-05\n",
      " 4.44465691e-05 3.27071219e-05 1.12444246e-05 3.16408958e-05\n",
      " 1.75650059e-05 4.01731909e-05 4.50089632e-05 2.63527954e-05\n",
      " 6.09695665e-05 4.47937069e-06 4.39158235e-05 4.82719509e-05\n",
      " 6.04920067e-05 3.20176776e-05 4.94024523e-05 3.43180111e-05\n",
      " 5.06857521e-05 6.05333897e-05 2.38886586e-05 3.13293094e-05\n",
      " 2.02921208e-05 3.06126863e-05 6.55458336e-05 5.56433961e-05\n",
      " 4.09330776e-05 2.38148151e-05 2.16544566e-05 3.70878668e-06\n",
      " 3.50540222e-06 6.37282688e-05]\n",
      "-----\n",
      "(178,)\n",
      "[1.54847488e-08 1.17308541e-07 6.79028253e-10 1.04239453e-16\n",
      " 2.46036231e-05 7.13286893e-16 2.40086047e-12 3.37562107e-12\n",
      " 1.11481255e-07 1.21962789e-07 9.16213366e-18 3.57780075e-12\n",
      " 1.42782999e-13 9.54958411e-10 4.72683130e-19 2.37825604e-12\n",
      " 7.63098255e-12 6.97510409e-09 2.94184627e-23 1.08124363e-05\n",
      " 4.37663185e-06 6.19143193e-05 2.04790192e-07 2.46830643e-07\n",
      " 1.75939553e-05 3.81172819e-06 1.77803478e-10 2.36733907e-12\n",
      " 5.58417217e-06 1.42458613e-07 5.60200088e-12 7.06955706e-18\n",
      " 8.76966217e-07 1.14870824e-11 3.07745730e-08 4.70464526e-06\n",
      " 1.00388704e-05 1.42766475e-08 2.72738471e-07 3.27037938e-06\n",
      " 1.78083906e-05 6.94585545e-08 2.57864553e-08 1.16085311e-04\n",
      " 1.03053099e-05 5.04718711e-08 7.93054812e-08 9.24061949e-07\n",
      " 9.83576602e-08 2.89290318e-11 1.12241071e-09 6.78263325e-12\n",
      " 7.29423514e-10 6.52850054e-14 6.18984740e-08 9.44864735e-09\n",
      " 7.57989188e-07 1.29737134e-11 8.28408035e-12 5.42284458e-05\n",
      " 1.19600949e-04 3.56715409e-05 1.15497740e-04 1.72083067e-05\n",
      " 4.83892205e-06 1.17903899e-04 1.34494207e-05 1.44231611e-05\n",
      " 5.53441168e-05 1.46650691e-09 1.42769751e-05 1.37972598e-05\n",
      " 3.36939486e-05 6.72227568e-09 1.01422700e-05 2.72997231e-05\n",
      " 1.01268041e-05 2.59319313e-05 3.96812253e-07 4.10385042e-05\n",
      " 8.82492311e-07 3.72503739e-05 1.73800599e-05 4.04520576e-05\n",
      " 7.83712342e-05 3.67136497e-05 5.26710742e-05 7.02772830e-05\n",
      " 3.68534896e-05 2.90592175e-06 1.81854800e-05 2.38665308e-05\n",
      " 1.79957727e-05 1.34354228e-06 5.46388275e-06 1.68072589e-12\n",
      " 6.17610504e-07 1.60468143e-05 6.73108594e-05 1.48488554e-05\n",
      " 9.62876385e-05 6.90154832e-05 3.13617221e-05 1.46811051e-05\n",
      " 4.42910891e-05 2.70485321e-06 1.98931148e-05 2.91035628e-05\n",
      " 2.64373787e-06 1.00334986e-04 7.84247646e-05 3.11714421e-06\n",
      " 1.20453217e-04 2.26980866e-05 7.59328907e-06 1.19286058e-05\n",
      " 3.80060959e-05 2.51849762e-06 3.74481638e-06 6.31321831e-05\n",
      " 1.25482164e-04 4.60451474e-06 6.90572988e-06 8.30374250e-06\n",
      " 5.60973521e-06 7.35011648e-06 4.88598464e-06 4.31241211e-05\n",
      " 4.54415873e-06 2.61383775e-05 1.37254891e-05 7.49372974e-05\n",
      " 1.09304140e-04 1.01333571e-04 4.89373416e-05 9.25898255e-05\n",
      " 5.10109650e-05 7.87914786e-05 7.32890975e-05 1.20914284e-04\n",
      " 1.22985811e-04 2.59876689e-05 8.27879090e-05 8.79657713e-05\n",
      " 1.34061340e-05 2.80949366e-05 7.53000157e-06 6.05309634e-05\n",
      " 1.00119829e-04 3.72152561e-05 3.33761825e-06 1.93075977e-05\n",
      " 4.09243054e-06 1.19553009e-04 1.24582767e-04 7.02230835e-05\n",
      " 4.26539900e-05 9.77230553e-06 1.25886691e-04 8.39122653e-05\n",
      " 5.59775382e-05 9.78328972e-05 8.80702092e-05 1.05131200e-04\n",
      " 9.11857606e-05 5.60912256e-05 6.77177873e-05 5.98710366e-05\n",
      " 7.12767495e-05 6.35940456e-05 7.52659020e-05 3.01142558e-05\n",
      " 8.99277152e-05 6.94213550e-05 7.55600333e-05 7.10984965e-06\n",
      " 6.66825032e-06 1.07443525e-04]\n",
      "-----\n",
      "[0 0 0 0 2 0 0 0 0 0 0 0 0 0 0 0 0 0 0 0 2 2 0 0 0 0 0 0 0 0 0 0 0 0 0 0 0\n",
      " 0 0 1 2 0 0 2 0 0 0 0 0 0 0 0 0 0 0 0 0 0 0 1 2 1 2 1 1 2 1 1 2 1 0 1 1 0\n",
      " 0 1 1 1 1 1 1 2 1 1 2 1 1 2 2 1 1 1 1 1 1 1 1 1 2 1 2 2 1 1 2 1 1 1 1 2 2\n",
      " 1 2 1 1 1 1 1 1 2 2 1 1 1 1 1 1 1 1 1 2 2 2 2 2 2 2 2 2 2 2 2 2 2 0 2 1 2\n",
      " 2 2 1 1 1 2 2 2 1 0 2 2 1 2 2 2 2 1 2 2 2 2 2 1 2 2 2 0 0 2]\n"
     ]
    }
   ],
   "source": [
    "means, variances = train_nb(samples_pca, labels)\n",
    "pred_labels = test_nb(samples_pca, means, variances, labels)\n",
    "print(pred_labels)\n"
   ]
  },
  {
   "cell_type": "code",
   "execution_count": null,
   "metadata": {},
   "outputs": [],
   "source": []
  },
  {
   "cell_type": "code",
   "execution_count": null,
   "metadata": {},
   "outputs": [],
   "source": []
  }
 ],
 "metadata": {
  "kernelspec": {
   "display_name": "Python 3",
   "language": "python",
   "name": "python3"
  },
  "language_info": {
   "codemirror_mode": {
    "name": "ipython",
    "version": 3
   },
   "file_extension": ".py",
   "mimetype": "text/x-python",
   "name": "python",
   "nbconvert_exporter": "python",
   "pygments_lexer": "ipython3",
   "version": "3.7.0"
  }
 },
 "nbformat": 4,
 "nbformat_minor": 2
}
