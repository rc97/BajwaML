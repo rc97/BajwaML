{
 "cells": [
  {
   "cell_type": "code",
   "execution_count": 1,
   "metadata": {},
   "outputs": [],
   "source": [
    "import math\n",
    "import numpy as np\n",
    "from matplotlib import pyplot as plt\n",
    "from sklearn.datasets import load_boston\n"
   ]
  },
  {
   "cell_type": "code",
   "execution_count": 2,
   "metadata": {},
   "outputs": [],
   "source": [
    "data, targets = load_boston(return_X_y=True)\n",
    "shuffle = np.random.permutation(len(targets))\n",
    "data = data[shuffle]\n",
    "targets = targets[shuffle]\n"
   ]
  },
  {
   "cell_type": "code",
   "execution_count": 3,
   "metadata": {},
   "outputs": [
    {
     "name": "stdout",
     "output_type": "stream",
     "text": [
      "(506, 13)\n",
      "(506,)\n"
     ]
    }
   ],
   "source": [
    "print(data.shape)\n",
    "print(targets.shape)\n"
   ]
  },
  {
   "cell_type": "markdown",
   "metadata": {},
   "source": [
    "# Implementing Least Squares Regression, Ridge Regression, and Cross Validation\n",
    "\n",
    "Note that least squares regression is just ridge regression with lambda = 0"
   ]
  },
  {
   "cell_type": "code",
   "execution_count": 4,
   "metadata": {},
   "outputs": [],
   "source": [
    "def ridge(X, y, lamb=0):\n",
    "    return np.linalg.inv(X.T @ X + lamb * np.eye(np.shape(X)[1])) @ X.T @ y\n"
   ]
  },
  {
   "cell_type": "code",
   "execution_count": 5,
   "metadata": {},
   "outputs": [],
   "source": [
    "def cross_val(X, y, folds=5, lamb=0):\n",
    "    X = np.hstack((X, np.ones((len(X), 1))))\n",
    "    pred_all = np.array([])\n",
    "    errors = []\n",
    "    len_data = len(y)\n",
    "    fold_size = math.ceil(len_data / folds)\n",
    "    for i in range(0, len_data, fold_size):\n",
    "        X_train = np.vstack((X[:i], X[i+fold_size:]))\n",
    "        y_train = np.concatenate((y[:i], y[i+fold_size:]))\n",
    "        X_test = X[i:i+fold_size]\n",
    "        y_test = y[i:i+fold_size]\n",
    "        \n",
    "        weights = ridge(X_train, y_train, lamb=lamb)\n",
    "        pred = X_test @ weights\n",
    "        error = sum((y_test - pred)**2)/len(pred)\n",
    "#         for a, b in zip(y_test, pred):\n",
    "#             print(a, b)\n",
    "        pred_all = np.concatenate((pred_all, pred))\n",
    "        errors.append(error)\n",
    "    return np.mean(errors), pred_all\n",
    "    "
   ]
  },
  {
   "cell_type": "markdown",
   "metadata": {},
   "source": [
    "# Least Squares with 5-fold cross validation"
   ]
  },
  {
   "cell_type": "code",
   "execution_count": 6,
   "metadata": {},
   "outputs": [
    {
     "name": "stdout",
     "output_type": "stream",
     "text": [
      "Average Prediction Error (MSE) is 24.100203996726794\n"
     ]
    }
   ],
   "source": [
    "error, pred = cross_val(data, targets, folds=5, lamb=0)\n",
    "print('Average Prediction Error (MSE) is {}'.format(error))"
   ]
  },
  {
   "cell_type": "code",
   "execution_count": 7,
   "metadata": {},
   "outputs": [
    {
     "data": {
      "image/png": "[encoded data removed]",
      "text/plain": [
       "<Figure size 432x288 with 1 Axes>"
      ]
     },
     "metadata": {
      "needs_background": "light"
     },
     "output_type": "display_data"
    }
   ],
   "source": [
    "plt.figure()\n",
    "plt.plot(pred, targets, '.')\n",
    "line = list(range(int(max(targets))))\n",
    "plt.plot(line, line)\n",
    "plt.title('Measured vs Predicted Prices')\n",
    "plt.xlabel('Predicted')\n",
    "plt.ylabel('Measured')\n",
    "plt.show()\n"
   ]
  },
  {
   "cell_type": "markdown",
   "metadata": {},
   "source": [
    "# Ridge Regression"
   ]
  },
  {
   "cell_type": "code",
   "execution_count": 8,
   "metadata": {},
   "outputs": [
    {
     "name": "stdout",
     "output_type": "stream",
     "text": [
      "The lambda chosen from cross validation is 0.30\n",
      "The average prediction error on the validation data is 21.855479873174488\n"
     ]
    }
   ],
   "source": [
    "split = len(targets) // 5\n",
    "data_train = data[split:]\n",
    "targets_train = targets[split:]\n",
    "data_val = data[:split]\n",
    "targets_val = targets[:split]\n",
    "\n",
    "lambdas = [0, 0.001, 0.01, .005, 0.1, 0.5, 1, 5, 10]\n",
    "errors = []\n",
    "\n",
    "for l in lambdas:\n",
    "    error, _ = cross_val(data_train, targets_train, folds=4, lamb=l)\n",
    "    errors.append(error)\n",
    "\n",
    "minind = np.argmin(errors)\n",
    "bef = max(0, minind-1)\n",
    "aft = min(len(lambdas)-1, minind+1)\n",
    "lamb_prev = lambdas[bef]\n",
    "lamb_next = lambdas[aft]\n",
    "min_lambda = 0\n",
    "min_error = max(errors)\n",
    "for i in range(1, int(lamb_next // lamb_prev) + 1):\n",
    "    l = i * lamb_prev\n",
    "    error, _ = cross_val(data_train, targets_train, folds=4, lamb=l)\n",
    "    if error < min_error:\n",
    "        min_error = error\n",
    "        min_lambda = l\n",
    "print('The lambda chosen from cross validation is {:.2f}'.format(min_lambda))\n",
    "\n",
    "X_train = np.hstack((data_train, np.ones((len(data_train), 1))))\n",
    "X_val = np.hstack((data_val, np.ones((len(data_val), 1))))\n",
    "\n",
    "weights = ridge(X_train, targets_train, lamb=min_lambda)\n",
    "preds = X_val @ weights\n",
    "error = sum((preds - targets_val)**2) / len(preds)\n",
    "print('The average prediction error on the validation data is {}'.format(error))\n"
   ]
  },
  {
   "cell_type": "code",
   "execution_count": null,
   "metadata": {},
   "outputs": [],
   "source": []
  }
 ],
 "metadata": {
  "kernelspec": {
   "display_name": "Python 3",
   "language": "python",
   "name": "python3"
  },
  "language_info": {
   "codemirror_mode": {
    "name": "ipython",
    "version": 3
   },
   "file_extension": ".py",
   "mimetype": "text/x-python",
   "name": "python",
   "nbconvert_exporter": "python",
   "pygments_lexer": "ipython3",
   "version": "3.7.0"
  }
 },
 "nbformat": 4,
 "nbformat_minor": 2
}
